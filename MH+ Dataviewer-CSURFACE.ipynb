{
 "cells": [
  {
   "cell_type": "markdown",
   "metadata": {},
   "source": [
    "# Analysing 10 years of meditation data from Meditation Helper plus app\n",
    "\n",
    "They don't make it easy!"
   ]
  },
  {
   "cell_type": "code",
   "execution_count": 1,
   "metadata": {},
   "outputs": [],
   "source": [
    "import pandas as pd\n",
    "import numpy as np\n",
    "import matplotlib.pyplot as plt\n",
    "import os\n",
    "from datetime import datetime\n",
    "\n"
   ]
  },
  {
   "cell_type": "markdown",
   "metadata": {},
   "source": [
    "# Import data and convert to dataframe"
   ]
  },
  {
   "cell_type": "code",
   "execution_count": 2,
   "metadata": {},
   "outputs": [],
   "source": [
    "#read in data as text\n",
    "with open('exported-sittings-20231005092003.csv') as f:\n",
    "    rawdata = f.readlines()\n",
    "\n",
    "#convert to ascii with list comprehension\n",
    "asciidata = [line.encode('ascii', 'replace') for line in rawdata]\n",
    "\n"
   ]
  },
  {
   "cell_type": "code",
   "execution_count": 3,
   "metadata": {},
   "outputs": [],
   "source": [
    "sittings = pd.DataFrame(columns = ['StartTime', 'EndTime', 'SessionType', 'Comment','Duration'])\n",
    "\n",
    "#parse data\n",
    "for row in asciidata:\n",
    "    row = str(row).split('?')\n",
    "    if len(row) > 2:\n",
    "        start = datetime.strptime(row[2], '%Y-%m-%d %H:%M:%S')\n",
    "        end = datetime.strptime(row[3], '%Y-%m-%d %H:%M:%S')\n",
    "    if len(row) == 5:\n",
    "        sittings.loc[len(sittings)] = {'StartTime': start, 'EndTime': end, 'SessionType': int(row[4])/1000}\n",
    "    elif len(row) == 6:\n",
    "        sittings.loc[len(sittings)] = {'StartTime': start, 'EndTime': end, 'SessionType': int(row[4])/1000, 'Comment': row[5]}"
   ]
  },
  {
   "cell_type": "code",
   "execution_count": 19,
   "metadata": {},
   "outputs": [
    {
     "data": {
      "text/html": [
       "<div>\n",
       "<style scoped>\n",
       "    .dataframe tbody tr th:only-of-type {\n",
       "        vertical-align: middle;\n",
       "    }\n",
       "\n",
       "    .dataframe tbody tr th {\n",
       "        vertical-align: top;\n",
       "    }\n",
       "\n",
       "    .dataframe thead th {\n",
       "        text-align: right;\n",
       "    }\n",
       "</style>\n",
       "<table border=\"1\" class=\"dataframe\">\n",
       "  <thead>\n",
       "    <tr style=\"text-align: right;\">\n",
       "      <th></th>\n",
       "      <th>StartTime</th>\n",
       "      <th>EndTime</th>\n",
       "      <th>SessionType</th>\n",
       "      <th>Comment</th>\n",
       "      <th>Duration</th>\n",
       "    </tr>\n",
       "  </thead>\n",
       "  <tbody>\n",
       "    <tr>\n",
       "      <th>0</th>\n",
       "      <td>2013-08-01 23:10:00</td>\n",
       "      <td>2013-08-01 23:20:00</td>\n",
       "      <td>600.0</td>\n",
       "      <td>\\n'</td>\n",
       "      <td>600</td>\n",
       "    </tr>\n",
       "    <tr>\n",
       "      <th>1</th>\n",
       "      <td>2013-08-02 21:03:30</td>\n",
       "      <td>2013-08-02 21:10:30</td>\n",
       "      <td>360.0</td>\n",
       "      <td>\\n'</td>\n",
       "      <td>420</td>\n",
       "    </tr>\n",
       "    <tr>\n",
       "      <th>2</th>\n",
       "      <td>2013-08-03 14:41:08</td>\n",
       "      <td>2013-08-03 14:48:08</td>\n",
       "      <td>360.0</td>\n",
       "      <td>\\n'</td>\n",
       "      <td>420</td>\n",
       "    </tr>\n",
       "    <tr>\n",
       "      <th>3</th>\n",
       "      <td>2013-08-04 20:58:38</td>\n",
       "      <td>2013-08-04 21:05:38</td>\n",
       "      <td>360.0</td>\n",
       "      <td>\\n'</td>\n",
       "      <td>420</td>\n",
       "    </tr>\n",
       "    <tr>\n",
       "      <th>4</th>\n",
       "      <td>2013-08-04 21:05:47</td>\n",
       "      <td>2013-08-04 21:12:47</td>\n",
       "      <td>360.0</td>\n",
       "      <td>\\n'</td>\n",
       "      <td>420</td>\n",
       "    </tr>\n",
       "  </tbody>\n",
       "</table>\n",
       "</div>"
      ],
      "text/plain": [
       "            StartTime             EndTime  SessionType Comment  Duration\n",
       "0 2013-08-01 23:10:00 2013-08-01 23:20:00        600.0     \\n'       600\n",
       "1 2013-08-02 21:03:30 2013-08-02 21:10:30        360.0     \\n'       420\n",
       "2 2013-08-03 14:41:08 2013-08-03 14:48:08        360.0     \\n'       420\n",
       "3 2013-08-04 20:58:38 2013-08-04 21:05:38        360.0     \\n'       420\n",
       "4 2013-08-04 21:05:47 2013-08-04 21:12:47        360.0     \\n'       420"
      ]
     },
     "execution_count": 19,
     "metadata": {},
     "output_type": "execute_result"
    }
   ],
   "source": [
    "sittings.head()"
   ]
  },
  {
   "cell_type": "code",
   "execution_count": 17,
   "metadata": {},
   "outputs": [],
   "source": [
    "def toseconds(x):\n",
    "    return x.seconds"
   ]
  },
  {
   "cell_type": "code",
   "execution_count": 18,
   "metadata": {},
   "outputs": [],
   "source": [
    "sittings[\"Duration\"] = (sittings[\"EndTime\"] - sittings[\"StartTime\"])\n",
    "sittings[\"Duration\"] = sittings[\"Duration\"].apply(toseconds())\n"
   ]
  },
  {
   "cell_type": "code",
   "execution_count": 20,
   "metadata": {},
   "outputs": [],
   "source": [
    "sittings.to_csv('sittings.csv', index=False)"
   ]
  },
  {
   "cell_type": "markdown",
   "metadata": {},
   "source": []
  },
  {
   "cell_type": "code",
   "execution_count": 49,
   "metadata": {},
   "outputs": [],
   "source": [
    "def activityInPeriod(sits, starttime, endtime ):\n",
    "    '''Find all sittings between two times and return a [PeriodLengthInMinutes x 1] array\n",
    "    with one cell per minute containing Zero if not sitting, one if sitting.\n",
    "    Includes partial sittings (starting before and ending after the period)\n",
    "    For each interval we round seconds to nearest minute (up or down). \n",
    "    '''\n",
    "\n",
    "    periodLength =   (endtime - starttime).total_seconds()\n",
    "    thisPeriod = np.zeros(int(periodLength/60), dtype=int)\n",
    "    #all sittings that start or end in this period\n",
    "    theseSittings = sits[(sits.StartTime.between(starttime, endtime)).bool()]\n",
    "    #theseSittings = sits[(sits.StartTime.between(starttime, endtime) or sits.EndTime.between(starttime , endtime))]\n",
    "    for s in theseSittings:\n",
    "        #find the start and end minutes of this sitting\n",
    "        startminute = max((s.StartTime - starttime).seconds/60,0)\n",
    "        endminute = min((s.EndTime - starttime).seconds/60, (endtime - starttime).seconds/60)\n",
    "        thisPeriod[startminute:endminute] = 1\n",
    "\n",
    "    return thisPeriod\n",
    "\n",
    "    \n",
    "\n",
    "def activityToday(sittingdata, todaysDate,daystart = \"02:30\"):\n",
    "    '''Find all sittings today and return a 1440 x 1 array \n",
    "    with one cell per s containing Zero if not sitting, one if sitting\n",
    "    '''"
   ]
  },
  {
   "cell_type": "code",
   "execution_count": 51,
   "metadata": {},
   "outputs": [
    {
     "ename": "ValueError",
     "evalue": "The truth value of a Series is ambiguous. Use a.empty, a.bool(), a.item(), a.any() or a.all().",
     "output_type": "error",
     "traceback": [
      "\u001b[1;31m---------------------------------------------------------------------------\u001b[0m",
      "\u001b[1;31mValueError\u001b[0m                                Traceback (most recent call last)",
      "\u001b[1;32mc:\\Users\\cas\\OneDrive\\Code\\Meditation Helper\\MH+ Dataviewer.ipynb Cell 12\u001b[0m line \u001b[0;36m5\n\u001b[0;32m      <a href='vscode-notebook-cell:/c%3A/Users/cas/OneDrive/Code/Meditation%20Helper/MH%2B%20Dataviewer.ipynb#X20sZmlsZQ%3D%3D?line=1'>2</a>\u001b[0m starttime \u001b[39m=\u001b[39m datetime(\u001b[39m2023\u001b[39m,\u001b[39m10\u001b[39m,\u001b[39m4\u001b[39m,\u001b[39m0\u001b[39m,\u001b[39m0\u001b[39m,\u001b[39m0\u001b[39m)\n\u001b[0;32m      <a href='vscode-notebook-cell:/c%3A/Users/cas/OneDrive/Code/Meditation%20Helper/MH%2B%20Dataviewer.ipynb#X20sZmlsZQ%3D%3D?line=2'>3</a>\u001b[0m endtime \u001b[39m=\u001b[39m datetime(\u001b[39m2023\u001b[39m,\u001b[39m10\u001b[39m,\u001b[39m5\u001b[39m,\u001b[39m0\u001b[39m,\u001b[39m0\u001b[39m,\u001b[39m0\u001b[39m)\n\u001b[1;32m----> <a href='vscode-notebook-cell:/c%3A/Users/cas/OneDrive/Code/Meditation%20Helper/MH%2B%20Dataviewer.ipynb#X20sZmlsZQ%3D%3D?line=4'>5</a>\u001b[0m theseSittings \u001b[39m=\u001b[39m sits[(sits\u001b[39m.\u001b[39mStartTime\u001b[39m.\u001b[39mbetween(starttime, endtime))\u001b[39m.\u001b[39mbool()]\n",
      "File \u001b[1;32mc:\\Users\\cas\\Anaconda3\\envs\\leet\\Lib\\site-packages\\pandas\\core\\generic.py:1516\u001b[0m, in \u001b[0;36mNDFrame.bool\u001b[1;34m(self)\u001b[0m\n\u001b[0;32m   1510\u001b[0m \u001b[39melif\u001b[39;00m is_scalar(v):\n\u001b[0;32m   1511\u001b[0m     \u001b[39mraise\u001b[39;00m \u001b[39mValueError\u001b[39;00m(\n\u001b[0;32m   1512\u001b[0m         \u001b[39m\"\u001b[39m\u001b[39mbool cannot act on a non-boolean single element \u001b[39m\u001b[39m\"\u001b[39m\n\u001b[0;32m   1513\u001b[0m         \u001b[39mf\u001b[39m\u001b[39m\"\u001b[39m\u001b[39m{\u001b[39;00m\u001b[39mtype\u001b[39m(\u001b[39mself\u001b[39m)\u001b[39m.\u001b[39m\u001b[39m__name__\u001b[39m\u001b[39m}\u001b[39;00m\u001b[39m\"\u001b[39m\n\u001b[0;32m   1514\u001b[0m     )\n\u001b[1;32m-> 1516\u001b[0m \u001b[39mself\u001b[39m\u001b[39m.\u001b[39m__nonzero__()\n\u001b[0;32m   1517\u001b[0m \u001b[39m# for mypy (__nonzero__ raises)\u001b[39;00m\n\u001b[0;32m   1518\u001b[0m \u001b[39mreturn\u001b[39;00m \u001b[39mTrue\u001b[39;00m\n",
      "File \u001b[1;32mc:\\Users\\cas\\Anaconda3\\envs\\leet\\Lib\\site-packages\\pandas\\core\\generic.py:1466\u001b[0m, in \u001b[0;36mNDFrame.__nonzero__\u001b[1;34m(self)\u001b[0m\n\u001b[0;32m   1464\u001b[0m \u001b[39m@final\u001b[39m\n\u001b[0;32m   1465\u001b[0m \u001b[39mdef\u001b[39;00m \u001b[39m__nonzero__\u001b[39m(\u001b[39mself\u001b[39m) \u001b[39m-\u001b[39m\u001b[39m>\u001b[39m NoReturn:\n\u001b[1;32m-> 1466\u001b[0m     \u001b[39mraise\u001b[39;00m \u001b[39mValueError\u001b[39;00m(\n\u001b[0;32m   1467\u001b[0m         \u001b[39mf\u001b[39m\u001b[39m\"\u001b[39m\u001b[39mThe truth value of a \u001b[39m\u001b[39m{\u001b[39;00m\u001b[39mtype\u001b[39m(\u001b[39mself\u001b[39m)\u001b[39m.\u001b[39m\u001b[39m__name__\u001b[39m\u001b[39m}\u001b[39;00m\u001b[39m is ambiguous. \u001b[39m\u001b[39m\"\u001b[39m\n\u001b[0;32m   1468\u001b[0m         \u001b[39m\"\u001b[39m\u001b[39mUse a.empty, a.bool(), a.item(), a.any() or a.all().\u001b[39m\u001b[39m\"\u001b[39m\n\u001b[0;32m   1469\u001b[0m     )\n",
      "\u001b[1;31mValueError\u001b[0m: The truth value of a Series is ambiguous. Use a.empty, a.bool(), a.item(), a.any() or a.all()."
     ]
    }
   ],
   "source": [
    "sits = sittings\n",
    "starttime = datetime(2023,10,4,0,0,0)\n",
    "endtime = datetime(2023,10,5,0,0,0)\n",
    "\n",
    "theseSittings = sits[(sits.StartTime.between(starttime, endtime)).bool()]\n"
   ]
  }
 ],
 "metadata": {
  "kernelspec": {
   "display_name": "leet",
   "language": "python",
   "name": "python3"
  },
  "language_info": {
   "codemirror_mode": {
    "name": "ipython",
    "version": 3
   },
   "file_extension": ".py",
   "mimetype": "text/x-python",
   "name": "python",
   "nbconvert_exporter": "python",
   "pygments_lexer": "ipython3",
   "version": "3.11.3"
  },
  "orig_nbformat": 4
 },
 "nbformat": 4,
 "nbformat_minor": 2
}
