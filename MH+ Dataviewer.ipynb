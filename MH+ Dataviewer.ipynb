{
 "cells": [
  {
   "cell_type": "markdown",
   "metadata": {},
   "source": [
    "# Analysing 10 years of meditation data from Meditation Helper pro app\n",
    "\n",
    "They don't make it easy!"
   ]
  },
  {
   "cell_type": "code",
   "execution_count": 2,
   "metadata": {},
   "outputs": [],
   "source": [
    "import pandas as pd\n",
    "import numpy as np\n",
    "import matplotlib.pyplot as plt\n",
    "import os\n",
    "import datetime\n",
    "\n"
   ]
  },
  {
   "cell_type": "markdown",
   "metadata": {},
   "source": [
    "# Import data and convert to dataframe"
   ]
  },
  {
   "cell_type": "code",
   "execution_count": 3,
   "metadata": {},
   "outputs": [],
   "source": [
    "#read in data as text\n",
    "with open('exported-sittings-20231005092003.csv') as f:\n",
    "    rawdata = f.readlines()\n",
    "\n",
    "#convert to ascii with list comprehension\n",
    "asciidata = [line.encode('ascii', 'replace') for line in rawdata]\n",
    "\n"
   ]
  },
  {
   "cell_type": "code",
   "execution_count": 4,
   "metadata": {},
   "outputs": [],
   "source": [
    "sittings = pd.DataFrame(columns = ['StartTime', 'EndTime', 'SessionType', 'Comment','Duration'])\n",
    "\n",
    "#parse data\n",
    "for row in asciidata:\n",
    "    row = str(row).split('?')\n",
    "    if len(row) > 2:\n",
    "        start = datetime.datetime.strptime(row[2], '%Y-%m-%d %H:%M:%S')\n",
    "        end = datetime.datetime.strptime(row[3], '%Y-%m-%d %H:%M:%S')\n",
    "    if len(row) == 5:\n",
    "        sittings.loc[len(sittings)] = {'StartTime': start, 'EndTime': end, 'SessionType': int(row[4])/1000}\n",
    "    elif len(row) == 6:\n",
    "        sittings.loc[len(sittings)] = {'StartTime': start, 'EndTime': end, 'SessionType': int(row[4])/1000, 'Comment': row[5]}"
   ]
  },
  {
   "cell_type": "code",
   "execution_count": 5,
   "metadata": {},
   "outputs": [
    {
     "data": {
      "text/html": [
       "<div>\n",
       "<style scoped>\n",
       "    .dataframe tbody tr th:only-of-type {\n",
       "        vertical-align: middle;\n",
       "    }\n",
       "\n",
       "    .dataframe tbody tr th {\n",
       "        vertical-align: top;\n",
       "    }\n",
       "\n",
       "    .dataframe thead th {\n",
       "        text-align: right;\n",
       "    }\n",
       "</style>\n",
       "<table border=\"1\" class=\"dataframe\">\n",
       "  <thead>\n",
       "    <tr style=\"text-align: right;\">\n",
       "      <th></th>\n",
       "      <th>StartTime</th>\n",
       "      <th>EndTime</th>\n",
       "      <th>SessionType</th>\n",
       "      <th>Comment</th>\n",
       "      <th>Duration</th>\n",
       "    </tr>\n",
       "  </thead>\n",
       "  <tbody>\n",
       "    <tr>\n",
       "      <th>0</th>\n",
       "      <td>2013-08-01 23:10:00</td>\n",
       "      <td>2013-08-01 23:20:00</td>\n",
       "      <td>600.0</td>\n",
       "      <td>\\n'</td>\n",
       "      <td>NaN</td>\n",
       "    </tr>\n",
       "    <tr>\n",
       "      <th>1</th>\n",
       "      <td>2013-08-02 21:03:30</td>\n",
       "      <td>2013-08-02 21:10:30</td>\n",
       "      <td>360.0</td>\n",
       "      <td>\\n'</td>\n",
       "      <td>NaN</td>\n",
       "    </tr>\n",
       "    <tr>\n",
       "      <th>2</th>\n",
       "      <td>2013-08-03 14:41:08</td>\n",
       "      <td>2013-08-03 14:48:08</td>\n",
       "      <td>360.0</td>\n",
       "      <td>\\n'</td>\n",
       "      <td>NaN</td>\n",
       "    </tr>\n",
       "    <tr>\n",
       "      <th>3</th>\n",
       "      <td>2013-08-04 20:58:38</td>\n",
       "      <td>2013-08-04 21:05:38</td>\n",
       "      <td>360.0</td>\n",
       "      <td>\\n'</td>\n",
       "      <td>NaN</td>\n",
       "    </tr>\n",
       "    <tr>\n",
       "      <th>4</th>\n",
       "      <td>2013-08-04 21:05:47</td>\n",
       "      <td>2013-08-04 21:12:47</td>\n",
       "      <td>360.0</td>\n",
       "      <td>\\n'</td>\n",
       "      <td>NaN</td>\n",
       "    </tr>\n",
       "  </tbody>\n",
       "</table>\n",
       "</div>"
      ],
      "text/plain": [
       "            StartTime             EndTime  SessionType Comment  Duration\n",
       "0 2013-08-01 23:10:00 2013-08-01 23:20:00        600.0     \\n'       NaN\n",
       "1 2013-08-02 21:03:30 2013-08-02 21:10:30        360.0     \\n'       NaN\n",
       "2 2013-08-03 14:41:08 2013-08-03 14:48:08        360.0     \\n'       NaN\n",
       "3 2013-08-04 20:58:38 2013-08-04 21:05:38        360.0     \\n'       NaN\n",
       "4 2013-08-04 21:05:47 2013-08-04 21:12:47        360.0     \\n'       NaN"
      ]
     },
     "execution_count": 5,
     "metadata": {},
     "output_type": "execute_result"
    }
   ],
   "source": [
    "sittings.head()"
   ]
  },
  {
   "cell_type": "code",
   "execution_count": 6,
   "metadata": {},
   "outputs": [],
   "source": [
    "def toseconds(x):\n",
    "    return x.seconds"
   ]
  },
  {
   "cell_type": "code",
   "execution_count": 7,
   "metadata": {},
   "outputs": [],
   "source": [
    "#let's calculate exact durations in seconds \n",
    "sittings[\"Duration\"] = (sittings[\"EndTime\"] - sittings[\"StartTime\"])\n",
    "sittings[\"Duration\"] = sittings[\"Duration\"].apply(toseconds)\n"
   ]
  },
  {
   "cell_type": "code",
   "execution_count": 8,
   "metadata": {},
   "outputs": [],
   "source": [
    "sittings.to_csv('sittings.csv', index=False)"
   ]
  },
  {
   "cell_type": "markdown",
   "metadata": {},
   "source": [
    "# Find all sittings in given time periods"
   ]
  },
  {
   "cell_type": "code",
   "execution_count": 15,
   "metadata": {},
   "outputs": [
    {
     "data": {
      "text/html": [
       "<div>\n",
       "<style scoped>\n",
       "    .dataframe tbody tr th:only-of-type {\n",
       "        vertical-align: middle;\n",
       "    }\n",
       "\n",
       "    .dataframe tbody tr th {\n",
       "        vertical-align: top;\n",
       "    }\n",
       "\n",
       "    .dataframe thead th {\n",
       "        text-align: right;\n",
       "    }\n",
       "</style>\n",
       "<table border=\"1\" class=\"dataframe\">\n",
       "  <thead>\n",
       "    <tr style=\"text-align: right;\">\n",
       "      <th></th>\n",
       "      <th>StartTime</th>\n",
       "      <th>EndTime</th>\n",
       "      <th>SessionType</th>\n",
       "      <th>Comment</th>\n",
       "      <th>Duration</th>\n",
       "    </tr>\n",
       "  </thead>\n",
       "  <tbody>\n",
       "    <tr>\n",
       "      <th>0</th>\n",
       "      <td>2013-08-01 23:10:00</td>\n",
       "      <td>2013-08-01 23:20:00</td>\n",
       "      <td>600.0</td>\n",
       "      <td>\\n'</td>\n",
       "      <td>600</td>\n",
       "    </tr>\n",
       "    <tr>\n",
       "      <th>1</th>\n",
       "      <td>2013-08-02 21:03:30</td>\n",
       "      <td>2013-08-02 21:10:30</td>\n",
       "      <td>360.0</td>\n",
       "      <td>\\n'</td>\n",
       "      <td>420</td>\n",
       "    </tr>\n",
       "    <tr>\n",
       "      <th>2</th>\n",
       "      <td>2013-08-03 14:41:08</td>\n",
       "      <td>2013-08-03 14:48:08</td>\n",
       "      <td>360.0</td>\n",
       "      <td>\\n'</td>\n",
       "      <td>420</td>\n",
       "    </tr>\n",
       "    <tr>\n",
       "      <th>3</th>\n",
       "      <td>2013-08-04 20:58:38</td>\n",
       "      <td>2013-08-04 21:05:38</td>\n",
       "      <td>360.0</td>\n",
       "      <td>\\n'</td>\n",
       "      <td>420</td>\n",
       "    </tr>\n",
       "    <tr>\n",
       "      <th>4</th>\n",
       "      <td>2013-08-04 21:05:47</td>\n",
       "      <td>2013-08-04 21:12:47</td>\n",
       "      <td>360.0</td>\n",
       "      <td>\\n'</td>\n",
       "      <td>420</td>\n",
       "    </tr>\n",
       "  </tbody>\n",
       "</table>\n",
       "</div>"
      ],
      "text/plain": [
       "            StartTime             EndTime  SessionType Comment  Duration\n",
       "0 2013-08-01 23:10:00 2013-08-01 23:20:00        600.0     \\n'       600\n",
       "1 2013-08-02 21:03:30 2013-08-02 21:10:30        360.0     \\n'       420\n",
       "2 2013-08-03 14:41:08 2013-08-03 14:48:08        360.0     \\n'       420\n",
       "3 2013-08-04 20:58:38 2013-08-04 21:05:38        360.0     \\n'       420\n",
       "4 2013-08-04 21:05:47 2013-08-04 21:12:47        360.0     \\n'       420"
      ]
     },
     "execution_count": 15,
     "metadata": {},
     "output_type": "execute_result"
    }
   ],
   "source": [
    "sittings = pd.read_csv('sittings.csv', parse_dates=['StartTime', 'EndTime'])\n",
    "sittings.head()"
   ]
  },
  {
   "cell_type": "code",
   "execution_count": 16,
   "metadata": {},
   "outputs": [
    {
     "data": {
      "text/html": [
       "<div>\n",
       "<style scoped>\n",
       "    .dataframe tbody tr th:only-of-type {\n",
       "        vertical-align: middle;\n",
       "    }\n",
       "\n",
       "    .dataframe tbody tr th {\n",
       "        vertical-align: top;\n",
       "    }\n",
       "\n",
       "    .dataframe thead th {\n",
       "        text-align: right;\n",
       "    }\n",
       "</style>\n",
       "<table border=\"1\" class=\"dataframe\">\n",
       "  <thead>\n",
       "    <tr style=\"text-align: right;\">\n",
       "      <th></th>\n",
       "      <th>StartTime</th>\n",
       "      <th>EndTime</th>\n",
       "      <th>SessionType</th>\n",
       "      <th>Comment</th>\n",
       "      <th>Duration</th>\n",
       "    </tr>\n",
       "  </thead>\n",
       "  <tbody>\n",
       "    <tr>\n",
       "      <th>5427</th>\n",
       "      <td>2023-10-04 07:00:27</td>\n",
       "      <td>2023-10-04 08:01:45</td>\n",
       "      <td>3674.164</td>\n",
       "      <td>\\n'</td>\n",
       "      <td>3678</td>\n",
       "    </tr>\n",
       "    <tr>\n",
       "      <th>5428</th>\n",
       "      <td>2023-10-04 09:13:59</td>\n",
       "      <td>2023-10-04 09:40:34</td>\n",
       "      <td>1590.799</td>\n",
       "      <td>\\n'</td>\n",
       "      <td>1595</td>\n",
       "    </tr>\n",
       "    <tr>\n",
       "      <th>5429</th>\n",
       "      <td>2023-10-04 15:11:52</td>\n",
       "      <td>2023-10-04 15:40:16</td>\n",
       "      <td>1699.190</td>\n",
       "      <td>\\n'</td>\n",
       "      <td>1704</td>\n",
       "    </tr>\n",
       "    <tr>\n",
       "      <th>5430</th>\n",
       "      <td>2023-10-04 15:51:41</td>\n",
       "      <td>2023-10-04 17:02:06</td>\n",
       "      <td>4224.267</td>\n",
       "      <td>\\n'</td>\n",
       "      <td>4225</td>\n",
       "    </tr>\n",
       "    <tr>\n",
       "      <th>5431</th>\n",
       "      <td>2023-10-04 17:04:25</td>\n",
       "      <td>2023-10-04 17:32:22</td>\n",
       "      <td>1672.141</td>\n",
       "      <td>\\n'</td>\n",
       "      <td>1677</td>\n",
       "    </tr>\n",
       "    <tr>\n",
       "      <th>5432</th>\n",
       "      <td>2023-10-04 19:01:34</td>\n",
       "      <td>2023-10-04 21:06:04</td>\n",
       "      <td>7464.838</td>\n",
       "      <td>\\n'</td>\n",
       "      <td>7470</td>\n",
       "    </tr>\n",
       "    <tr>\n",
       "      <th>5433</th>\n",
       "      <td>2023-10-04 22:11:26</td>\n",
       "      <td>2023-10-04 23:10:50</td>\n",
       "      <td>3559.378</td>\n",
       "      <td>\\n'</td>\n",
       "      <td>3564</td>\n",
       "    </tr>\n",
       "  </tbody>\n",
       "</table>\n",
       "</div>"
      ],
      "text/plain": [
       "               StartTime             EndTime  SessionType Comment  Duration\n",
       "5427 2023-10-04 07:00:27 2023-10-04 08:01:45     3674.164     \\n'      3678\n",
       "5428 2023-10-04 09:13:59 2023-10-04 09:40:34     1590.799     \\n'      1595\n",
       "5429 2023-10-04 15:11:52 2023-10-04 15:40:16     1699.190     \\n'      1704\n",
       "5430 2023-10-04 15:51:41 2023-10-04 17:02:06     4224.267     \\n'      4225\n",
       "5431 2023-10-04 17:04:25 2023-10-04 17:32:22     1672.141     \\n'      1677\n",
       "5432 2023-10-04 19:01:34 2023-10-04 21:06:04     7464.838     \\n'      7470\n",
       "5433 2023-10-04 22:11:26 2023-10-04 23:10:50     3559.378     \\n'      3564"
      ]
     },
     "execution_count": 16,
     "metadata": {},
     "output_type": "execute_result"
    }
   ],
   "source": [
    "# with dataframes we can easily select all sittings that start or end in a given period\n",
    "sits = sittings\n",
    "starttime = datetime.datetime(2023,10,4,0,0,0)\n",
    "endtime = datetime.datetime(2023,10,5,0,0,0)\n",
    "\n",
    "theseSittings = sits[sits.StartTime.between(starttime, endtime) | sits.EndTime.between(starttime , endtime)]\n",
    "\n",
    "theseSittings"
   ]
  },
  {
   "cell_type": "code",
   "execution_count": 17,
   "metadata": {},
   "outputs": [],
   "source": [
    "def activityInPeriod(sits, starttime, endtime ):\n",
    "    '''Find all sittings between two times and return a [PeriodLengthInMinutes x 1] array\n",
    "    with one cell per minute containing Zero if not sitting, one if sitting.\n",
    "    Includes partial sittings (starting before and ending after the period)\n",
    "    For each interval we round seconds to nearest minute (up or down). \n",
    "    '''\n",
    "\n",
    "    periodLength =   round((endtime - starttime).total_seconds()/60)\n",
    "    thisPeriod = np.zeros(periodLength, dtype=int)\n",
    "    #all sittings that start or end in this period\n",
    "    theseSittings = sits[sits.StartTime.between(starttime, endtime) | sits.EndTime.between(starttime , endtime)]\n",
    "    for idx in theseSittings.index:\n",
    "        #get start and end of this sitting\n",
    "        sitstart = theseSittings[\"StartTime\"][idx]\n",
    "        sitend = theseSittings[\"EndTime\"][idx]\n",
    "        #turn into relative points in the period\n",
    "        startminute = round((max(sitstart, starttime) - starttime).total_seconds()/60)\n",
    "        endminute = round((min(sitend, endtime) - starttime).total_seconds()/60)\n",
    "        thisPeriod[startminute:endminute] = 1\n",
    "\n",
    "    return thisPeriod\n"
   ]
  },
  {
   "cell_type": "code",
   "execution_count": 18,
   "metadata": {},
   "outputs": [
    {
     "data": {
      "text/plain": [
       "[<matplotlib.lines.Line2D at 0x2402e074d90>]"
      ]
     },
     "execution_count": 18,
     "metadata": {},
     "output_type": "execute_result"
    },
    {
     "data": {
      "image/png": "[encoded data removed]",
      "text/plain": [
       "<Figure size 640x480 with 1 Axes>"
      ]
     },
     "metadata": {},
     "output_type": "display_data"
    }
   ],
   "source": [
    "starttime = datetime.datetime(2023,10,2,0,0,0)\n",
    "endtime = datetime.datetime(2023,10,7,0,0,0)\n",
    "\n",
    "today = activityInPeriod(sittings, starttime, endtime)\n",
    "\n",
    "plt.plot(today)"
   ]
  },
  {
   "cell_type": "code",
   "execution_count": 19,
   "metadata": {},
   "outputs": [
    {
     "name": "stdout",
     "output_type": "stream",
     "text": [
      "2023-10-04 07:00:27\n"
     ]
    },
    {
     "data": {
      "text/plain": [
       "Timestamp('2023-10-04 07:00:27')"
      ]
     },
     "execution_count": 19,
     "metadata": {},
     "output_type": "execute_result"
    }
   ],
   "source": [
    "print(theseSittings.iloc[0].StartTime)\n",
    "max(theseSittings.iloc[0].StartTime,starttime)"
   ]
  },
  {
   "cell_type": "code",
   "execution_count": 21,
   "metadata": {},
   "outputs": [
    {
     "name": "stdout",
     "output_type": "stream",
     "text": [
      "2023-10-14 00:00:00\n",
      "5\n",
      "2023-10-14\n",
      "2023-10-09 00:00:00\n",
      "2023-10-16 00:00:00\n"
     ]
    }
   ],
   "source": [
    "start = datetime.datetime(2023,10,14)\n",
    "end = datetime.datetime(2023,10,14)\n",
    "\n",
    "print(start)\n",
    "print(start.weekday())\n",
    "print(start.date())\n",
    "begin = datetime.datetime(year=start.year, month=start.month, day=start.day)\n",
    "\n",
    "firstmonday = begin - datetime.timedelta(days=start.weekday())\n",
    "print(firstmonday)\n",
    "\n",
    "stop = datetime.datetime(year=end.year, month=end.month, day=end.day)\n",
    "lastsunday = stop + datetime.timedelta(days=7-stop.weekday())\n",
    "\n",
    "print(lastsunday)\n"
   ]
  },
  {
   "cell_type": "code",
   "execution_count": 22,
   "metadata": {},
   "outputs": [],
   "source": [
    "def weeklyRoutineOverTime(sits,start,end):\n",
    "    '''We cover the interval with weekly periods and add up the sittings over these.\n",
    "    Weeks start Monday 00:00 and end Sunday 23:59'''\n",
    "    theseSittings = sits[sits.StartTime.between(start, end) | sits.EndTime.between(start , end)]\n",
    "\n",
    "    #get monday immeditately prior to start\n",
    "    begin = datetime.datetime(year=start.year, month=start.month, day=start.day)\n",
    "    monday = begin - datetime.timedelta(days=start.weekday())\n",
    "    stop = datetime.datetime(year=end.year, month=end.month, day=end.day)\n",
    "    lastsunday = stop + datetime.timedelta(days=7-stop.weekday())\n",
    "    \n",
    "    allweeks = np.zeros(7*24*60, dtype=int)\n",
    "    while monday < lastsunday:\n",
    "        sunday = monday + datetime.timedelta(days=7)\n",
    "        thisweek = activityInPeriod(sittings, monday, sunday)\n",
    "        allweeks = allweeks + thisweek\n",
    "        monday = monday + datetime.timedelta(days=7)\n",
    "\n",
    "    return allweeks\n"
   ]
  },
  {
   "cell_type": "code",
   "execution_count": 23,
   "metadata": {},
   "outputs": [],
   "source": [
    "start = datetime.datetime(2010,1,1,0,0,0)\n",
    "end = datetime.datetime(2023,12,31,0,0,0)\n",
    "\n",
    "allweeks = weeklyRoutineOverTime(sittings,start,end)"
   ]
  },
  {
   "cell_type": "code",
   "execution_count": 24,
   "metadata": {},
   "outputs": [
    {
     "data": {
      "image/png": "[encoded data removed]",
      "text/plain": [
       "<Figure size 640x480 with 1 Axes>"
      ]
     },
     "metadata": {},
     "output_type": "display_data"
    }
   ],
   "source": [
    "from matplotlib.ticker import FixedLocator, FixedFormatter, AutoMinorLocator\n",
    "\n",
    "fig, ax = plt.subplots()\n",
    "ax.plot(allweeks)\n",
    "locs = [0, 1440, 1440*2, 1440*3, 1440*4, 1440*5, 1440*6, 1440*7]\n",
    "labels = [\"Mon\", \"Tue\", \"Wed\", \"Thu\", \"Fri\", \"Sat\", \"Sun\"]\n",
    "ax.xaxis.set_major_locator(FixedLocator(locs))\n",
    "ax.xaxis.set_major_formatter(FixedFormatter(labels))\n",
    "ax.xaxis.set_minor_locator(AutoMinorLocator(4))\n",
    "plt.show()"
   ]
  }
 ],
 "metadata": {
  "kernelspec": {
   "display_name": "leet",
   "language": "python",
   "name": "python3"
  },
  "language_info": {
   "codemirror_mode": {
    "name": "ipython",
    "version": 3
   },
   "file_extension": ".py",
   "mimetype": "text/x-python",
   "name": "python",
   "nbconvert_exporter": "python",
   "pygments_lexer": "ipython3",
   "version": "3.11.3"
  },
  "orig_nbformat": 4
 },
 "nbformat": 4,
 "nbformat_minor": 2
}
